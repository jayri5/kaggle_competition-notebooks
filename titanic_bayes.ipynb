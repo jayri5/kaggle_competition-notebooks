{
 "cells": [
  {
   "cell_type": "code",
   "execution_count": 37,
   "metadata": {},
   "outputs": [
    {
     "name": "stdout",
     "output_type": "stream",
     "text": [
      "0\n",
      "int32\n"
     ]
    }
   ],
   "source": [
    "import pandas as pd\n",
    "train = pd.read_csv('C:/Users/bagchi/Downloads/train.csv')\n",
    "test = pd.read_csv('C:/Users/bagchi/Downloads/test.csv')\n",
    "features=[\"Pclass\", \"Sex\", \"SibSp\", \"Parch\", 'Age']\n",
    "train['Age']=train['Age'].fillna(train['Age'].mean())\n",
    "#print(train['Age'].isna().sum())\n",
    "train['Age']=train['Age'].astype(int)\n",
    "#print(train['Age'].dtype)\n",
    "\n",
    "\n",
    "test['Age']=test['Age'].fillna(test['Age'].mean())\n",
    "print(test['Age'].isna().sum())\n",
    "test['Age']=test['Age'].astype(int)\n",
    "print(train['Age'].dtype)"
   ]
  },
  {
   "cell_type": "code",
   "execution_count": 38,
   "metadata": {},
   "outputs": [],
   "source": [
    "X = pd.get_dummies(train[features])\n",
    "y=train['Survived']\n",
    "X_test = pd.get_dummies(test[features])"
   ]
  },
  {
   "cell_type": "code",
   "execution_count": 39,
   "metadata": {},
   "outputs": [],
   "source": [
    "from sklearn.naive_bayes import GaussianNB\n",
    "model=GaussianNB()\n",
    "model.fit(X,y)\n",
    "predictions=model.predict(X_test)\n",
    "output = pd.DataFrame({'PassengerId': test.PassengerId, 'Survived': predictions})\n",
    "output.to_csv('my_submission.csv', index=False)"
   ]
  },
  {
   "cell_type": "code",
   "execution_count": null,
   "metadata": {},
   "outputs": [],
   "source": []
  }
 ],
 "metadata": {
  "kernelspec": {
   "display_name": "Python 3",
   "language": "python",
   "name": "python3"
  },
  "language_info": {
   "codemirror_mode": {
    "name": "ipython",
    "version": 3
   },
   "file_extension": ".py",
   "mimetype": "text/x-python",
   "name": "python",
   "nbconvert_exporter": "python",
   "pygments_lexer": "ipython3",
   "version": "3.7.6"
  }
 },
 "nbformat": 4,
 "nbformat_minor": 4
}
